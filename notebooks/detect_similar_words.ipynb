{
 "cells": [
  {
   "cell_type": "markdown",
   "metadata": {},
   "source": [
    "## Goal\n",
    "\n",
    "Can we use fuzzyquzzy library to detect similar words like `homework` and `hw`?\n",
    "\n",
    "\n",
    "`Fuzzy string matching like a boss. It uses Levenshtein Distance to calculate the differences between sequences in a simple-to-use package.`\n",
    "\n",
    "https://pypi.org/project/fuzzywuzzy/0.18.0/\n",
    "\n",
    "https://github.com/seatgeek/thefuzz"
   ]
  },
  {
   "cell_type": "markdown",
   "metadata": {},
   "source": [
    "## Install"
   ]
  },
  {
   "cell_type": "code",
   "execution_count": 2,
   "metadata": {},
   "outputs": [
    {
     "name": "stdout",
     "output_type": "stream",
     "text": [
      "Requirement already satisfied: fuzzywuzzy==0.18.0 in /anaconda/envs/uatu/lib/python3.7/site-packages (0.18.0)\n",
      "Collecting thefuzz\n",
      "  Downloading https://files.pythonhosted.org/packages/24/7c/2acf47d228b0c0879468b4e2fd15a14eb58bd97897b4bb8a9a7ed47d22f7/thefuzz-0.19.0-py2.py3-none-any.whl\n",
      "Installing collected packages: thefuzz\n",
      "Successfully installed thefuzz-0.19.0\n"
     ]
    }
   ],
   "source": [
    "!pip install fuzzywuzzy==0.18.0\n",
    "!pip install thefuzz"
   ]
  },
  {
   "cell_type": "markdown",
   "metadata": {},
   "source": [
    "## Import"
   ]
  },
  {
   "cell_type": "code",
   "execution_count": 10,
   "metadata": {},
   "outputs": [],
   "source": [
    "from thefuzz import fuzz\n",
    "from thefuzz import process\n",
    "\n",
    "import numpy as np"
   ]
  },
  {
   "cell_type": "markdown",
   "metadata": {},
   "source": [
    "## Test 1"
   ]
  },
  {
   "cell_type": "code",
   "execution_count": 4,
   "metadata": {},
   "outputs": [],
   "source": [
    "words = ['assignment', 'ass', 'assessment', 'homework', 'paper', 'test', 'exam', 'midterm', 'final']"
   ]
  },
  {
   "cell_type": "markdown",
   "metadata": {},
   "source": [
    "## Compute similarit between a query and all other words"
   ]
  },
  {
   "cell_type": "code",
   "execution_count": 21,
   "metadata": {},
   "outputs": [],
   "source": [
    "query_inx = words.index(\"assignment\")\n",
    "\n",
    "sims = {}\n",
    "\n",
    "for target_inx in range(len(words)):\n",
    "    key = query_inx, target_inx\n",
    "    sims[key] = fuzz.ratio(words[query_inx], words[target_inx])"
   ]
  },
  {
   "cell_type": "markdown",
   "metadata": {},
   "source": [
    "## Sort similarities"
   ]
  },
  {
   "cell_type": "code",
   "execution_count": 22,
   "metadata": {},
   "outputs": [],
   "source": [
    "sorted_sims = {k: v for k, v in sorted(sims.items(), key=lambda item: item[1], reverse=True)}"
   ]
  },
  {
   "cell_type": "markdown",
   "metadata": {},
   "source": [
    "## Log based on similarity"
   ]
  },
  {
   "cell_type": "code",
   "execution_count": 23,
   "metadata": {},
   "outputs": [
    {
     "data": {
      "text/plain": [
       "{(0, 0): 100,\n",
       " (0, 2): 70,\n",
       " (0, 1): 46,\n",
       " (0, 5): 29,\n",
       " (0, 6): 29,\n",
       " (0, 4): 27,\n",
       " (0, 7): 24,\n",
       " (0, 3): 22,\n",
       " (0, 8): 13}"
      ]
     },
     "execution_count": 23,
     "metadata": {},
     "output_type": "execute_result"
    }
   ],
   "source": [
    "sorted_sims "
   ]
  },
  {
   "cell_type": "code",
   "execution_count": 24,
   "metadata": {},
   "outputs": [
    {
     "name": "stdout",
     "output_type": "stream",
     "text": [
      "Sim(assignment, assignment) --> 100\n",
      "Sim(assignment, assessment) --> 70\n",
      "Sim(assignment, ass) --> 46\n",
      "Sim(assignment, test) --> 29\n",
      "Sim(assignment, exam) --> 29\n",
      "Sim(assignment, paper) --> 27\n",
      "Sim(assignment, midterm) --> 24\n",
      "Sim(assignment, homework) --> 22\n",
      "Sim(assignment, final) --> 13\n"
     ]
    }
   ],
   "source": [
    "for key, score in sorted_sims.items():\n",
    "    print(\"Sim({}, {}) --> {}\".format(words[key[0]], words[key[1]], score))"
   ]
  },
  {
   "cell_type": "markdown",
   "metadata": {},
   "source": [
    "## Try \"homework\""
   ]
  },
  {
   "cell_type": "code",
   "execution_count": 25,
   "metadata": {},
   "outputs": [],
   "source": [
    "query_inx = words.index(\"homework\")\n",
    "\n",
    "sims = {}\n",
    "\n",
    "for target_inx in range(len(words)):\n",
    "    key = query_inx, target_inx\n",
    "    sims[key] = fuzz.ratio(words[query_inx], words[target_inx])"
   ]
  },
  {
   "cell_type": "code",
   "execution_count": 26,
   "metadata": {},
   "outputs": [],
   "source": [
    "sorted_sims = {k: v for k, v in sorted(sims.items(), key=lambda item: item[1], reverse=True)}"
   ]
  },
  {
   "cell_type": "code",
   "execution_count": 27,
   "metadata": {},
   "outputs": [
    {
     "name": "stdout",
     "output_type": "stream",
     "text": [
      "Sim(homework, homework) --> 100\n",
      "Sim(homework, midterm) --> 40\n",
      "Sim(homework, paper) --> 31\n",
      "Sim(homework, assignment) --> 22\n",
      "Sim(homework, assessment) --> 22\n",
      "Sim(homework, test) --> 17\n",
      "Sim(homework, exam) --> 17\n",
      "Sim(homework, ass) --> 0\n",
      "Sim(homework, final) --> 0\n"
     ]
    }
   ],
   "source": [
    "for key, score in sorted_sims.items():\n",
    "    print(\"Sim({}, {}) --> {}\".format(words[key[0]], words[key[1]], score))"
   ]
  },
  {
   "cell_type": "markdown",
   "metadata": {},
   "source": [
    "## Observations\n",
    "\n",
    "As we could expect `Levenshtein Distance` doesnt have any clue about words underlying semantic so we dont get useful simialrity distance!!"
   ]
  },
  {
   "cell_type": "code",
   "execution_count": null,
   "metadata": {},
   "outputs": [],
   "source": []
  }
 ],
 "metadata": {
  "kernelspec": {
   "display_name": "uatu",
   "language": "python",
   "name": "uatu"
  },
  "language_info": {
   "codemirror_mode": {
    "name": "ipython",
    "version": 3
   },
   "file_extension": ".py",
   "mimetype": "text/x-python",
   "name": "python",
   "nbconvert_exporter": "python",
   "pygments_lexer": "ipython3",
   "version": "3.7.3"
  }
 },
 "nbformat": 4,
 "nbformat_minor": 2
}
